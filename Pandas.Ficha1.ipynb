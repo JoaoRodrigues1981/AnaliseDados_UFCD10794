{
 "cells": [
  {
   "cell_type": "code",
   "execution_count": 11,
   "metadata": {},
   "outputs": [
    {
     "name": "stdout",
     "output_type": "stream",
     "text": [
      "          Name    Team  Position  Height  Weight   Birthdate\n",
      "0   John Smith  Team A   Forward     180      75  01/01/1995\n",
      "1     Jane Doe  Team B  Midfield     170      65  02/02/1990\n",
      "2  Bob Johnson  Team C   Defense     190      85  03/03/1985\n",
      "3   John Smith  Team A       NaN     180      75  01/01/1995\n",
      "4     Jane Doe  Team B  Midfield     170      65  02/02/1990\n"
     ]
    }
   ],
   "source": [
    "import pandas as pd\n",
    "\n",
    "#ler o ficheiro CSV\n",
    "df = pd.read_csv('football_players.csv')\n",
    "print(df)"
   ]
  },
  {
   "cell_type": "code",
   "execution_count": 12,
   "metadata": {},
   "outputs": [
    {
     "name": "stdout",
     "output_type": "stream",
     "text": [
      "          Name    Team  Position  Height  Weight   Birthdate\n",
      "0   John Smith  Team A   Forward     180      75  01/01/1995\n",
      "1     Jane Doe  Team B  Midfield     170      65  02/02/1990\n",
      "2  Bob Johnson  Team C   Defense     190      85  03/03/1985\n",
      "3   John Smith  Team A    Unkown     180      75  01/01/1995\n",
      "4     Jane Doe  Team B  Midfield     170      65  02/02/1990\n"
     ]
    }
   ],
   "source": [
    "#Substituir os espaços em branco por \"Unkown\"\n",
    "df.fillna('Unkown', inplace=True)\n",
    "print(df)"
   ]
  },
  {
   "cell_type": "code",
   "execution_count": 13,
   "metadata": {},
   "outputs": [
    {
     "name": "stdout",
     "output_type": "stream",
     "text": [
      "          Name    Team  Position  Height  Weight   Birthdate\n",
      "0   John Smith  Team A   Forward     180      75  01/01/1995\n",
      "1     Jane Doe  Team B  Midfield     170      65  02/02/1990\n",
      "2  Bob Johnson  Team C   Defense     190      85  03/03/1985\n",
      "3   John Smith  Team A    Unkown     180      75  01/01/1995\n",
      "4     Jane Doe  Team B  Midfield     170      65  02/02/1990\n"
     ]
    }
   ],
   "source": [
    "#Apagar as linhas com valores nulos\n",
    "df.dropna(inplace=True)\n",
    "print(df)\n"
   ]
  },
  {
   "cell_type": "code",
   "execution_count": 14,
   "metadata": {},
   "outputs": [
    {
     "name": "stdout",
     "output_type": "stream",
     "text": [
      "          Name    Team  Position  Height  Weight   Birthdate\n",
      "0   John Smith  Team A   Forward     180      75  01/01/1995\n",
      "1     Jane Doe  Team B  Midfield     170      65  02/02/1990\n",
      "2  Bob Johnson  Team C   Defense     190      85  03/03/1985\n",
      "3   John Smith  Team A    Unkown     180      75  01/01/1995\n"
     ]
    }
   ],
   "source": [
    "#Remover linhas duplicadas\n",
    "df.drop_duplicates(inplace=True)\n",
    "print(df)"
   ]
  },
  {
   "cell_type": "code",
   "execution_count": 19,
   "metadata": {},
   "outputs": [],
   "source": [
    "#converter a coluna \"height\" em tipo de dados numericos\n",
    "df['Height'] = pd.to_numeric(df['Height'])\n",
    "#o mesmo para Weight\n",
    "df['Weight'] = pd.to_numeric(df['Weight'])\n",
    "#converter data de nascimento em tipo de dados datetime\n",
    "df['Birthdate'] = pd.to_datetime(df['Birthdate'])\n"
   ]
  },
  {
   "cell_type": "code",
   "execution_count": 20,
   "metadata": {},
   "outputs": [],
   "source": [
    "#Salvar os dados limpos num novo ficheiro .csv\n",
    "df.to_csv('Limpo_football_players.csv')"
   ]
  }
 ],
 "metadata": {
  "kernelspec": {
   "display_name": "Python 3",
   "language": "python",
   "name": "python3"
  },
  "language_info": {
   "codemirror_mode": {
    "name": "ipython",
    "version": 3
   },
   "file_extension": ".py",
   "mimetype": "text/x-python",
   "name": "python",
   "nbconvert_exporter": "python",
   "pygments_lexer": "ipython3",
   "version": "3.11.4"
  },
  "orig_nbformat": 4
 },
 "nbformat": 4,
 "nbformat_minor": 2
}
